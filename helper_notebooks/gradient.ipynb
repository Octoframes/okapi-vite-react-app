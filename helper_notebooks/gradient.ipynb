{
 "cells": [
  {
   "cell_type": "code",
   "execution_count": 1,
   "metadata": {},
   "outputs": [
    {
     "name": "stdout",
     "output_type": "stream",
     "text": [
      "#2c61b5\n",
      "#2b64b7\n",
      "#2a68ba\n",
      "#296cbc\n",
      "#2870be\n",
      "#2874c1\n",
      "#2778c3\n",
      "#267cc5\n",
      "#2581c8\n",
      "#2486ca\n",
      "#238acd\n",
      "#228fcf\n",
      "#2194d1\n",
      "#209ad4\n",
      "#1f9fd6\n",
      "#1da5d9\n",
      "#1cabdb\n",
      "#1bb1de\n",
      "#1ab7e0\n",
      "#19bde3\n"
     ]
    }
   ],
   "source": [
    "from colour import Color\n",
    "\n",
    "def generate_gradient(start_color, end_color, steps):\n",
    "    start = Color(start_color)\n",
    "    colors = list(start.range_to(Color(end_color), steps))\n",
    "    return [color.get_hex_l() for color in colors]\n",
    "\n",
    "# Usage\n",
    "gradient = generate_gradient(\"#2C61B5\", \"#19BDE3\", 20) \n",
    "for color in gradient:\n",
    "    print(color)\n"
   ]
  },
  {
   "cell_type": "code",
   "execution_count": null,
   "metadata": {},
   "outputs": [],
   "source": [
    "pip in"
   ]
  }
 ],
 "metadata": {
  "kernelspec": {
   "display_name": "napari-env2",
   "language": "python",
   "name": "python3"
  },
  "language_info": {
   "codemirror_mode": {
    "name": "ipython",
    "version": 3
   },
   "file_extension": ".py",
   "mimetype": "text/x-python",
   "name": "python",
   "nbconvert_exporter": "python",
   "pygments_lexer": "ipython3",
   "version": "3.9.15"
  },
  "orig_nbformat": 4
 },
 "nbformat": 4,
 "nbformat_minor": 2
}
